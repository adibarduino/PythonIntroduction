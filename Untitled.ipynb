{
 "cells": [
  {
   "cell_type": "markdown",
   "metadata": {},
   "source": [
    "## titre\n",
    "# titre\n",
    "### titre\n",
    "___\n",
    "\n",
    "```python\n",
    "import random\n",
    "\n",
    "print(random.randint())\n",
    "```"
   ]
  },
  {
   "cell_type": "code",
   "execution_count": 3,
   "metadata": {},
   "outputs": [
    {
     "name": "stdout",
     "output_type": "stream",
     "text": [
      "9\n"
     ]
    }
   ],
   "source": [
    "import random\n",
    "\n",
    "print(random.randint(1,10))"
   ]
  },
  {
   "cell_type": "code",
   "execution_count": 4,
   "metadata": {},
   "outputs": [
    {
     "name": "stdout",
     "output_type": "stream",
     "text": [
      "pygame 2.0.0.dev6 (SDL 2.0.10, python 3.7.0)\n",
      "Hello from the pygame community. https://www.pygame.org/contribute.html\n"
     ]
    }
   ],
   "source": [
    "\"\"\"\n",
    "Série d'introduction à Pygame\n",
    "Prérequis:\n",
    "    - les bases de Python\n",
    "    - les listes et les fonctions\n",
    "#1 première partie de la série:\n",
    "    - fenêtre principale du jeu\n",
    "    - le joueur (graphisme simplifié)\n",
    "    - mouvement du joueur (mouvement simple)\n",
    "    - collision avec un méchant (graphisme simplifié)\n",
    "\"\"\"\n",
    "\n",
    "# import des librairies\n",
    "import pygame\n",
    "import time\n",
    "import random\n",
    "\n",
    "# déclaration des constantes\n",
    "bleu = (0, 0, 255)  # (R,G,B) entre 0 et 255\n",
    "rouge = (255, 0, 0)  # (R,G,B) entre 0 et 255\n",
    "noir = (0, 0, 0)  # (R,G,B) entre 0 et 255\n",
    "blanc = (255, 255, 255)  # (R,G,B) entre 0 et 255\n",
    "pas = 10\n",
    "\n",
    "# initialise Pygame\n",
    "pygame.init()\n",
    "\n",
    "# création de la fenêtre principale du jeu\n",
    "window = pygame.display.set_mode((500, 500))\n",
    "\n",
    "# création du joueur\n",
    "player = pygame.draw.rect(window, bleu, (100, 100, 20, 20))\n",
    "# création du méchant\n",
    "enemy = pygame.draw.rect(window, rouge, (300, 300, 20, 20))\n",
    "\n",
    "# mis à jour de l'affichage\n",
    "pygame.display.update()\n",
    "\n",
    "run = True\n",
    "\n",
    "# boucle principale du jeu\n",
    "while run:\n",
    "    # récupère tous les évènements\n",
    "    events = pygame.event.get()\n",
    "\n",
    "    # pour sortir de la boucle si on veut quitter le jeu\n",
    "    for event in events:\n",
    "        if event.type == pygame.QUIT:\n",
    "            run = False\n",
    "\n",
    "    # mouvement du joueur\n",
    "    K_Pressed = pygame.key.get_pressed()\n",
    "    if K_Pressed[pygame.K_LEFT]:\n",
    "        player.move_ip(-pas, 0)\n",
    "    elif K_Pressed[pygame.K_RIGHT]:\n",
    "        player.move_ip(pas, 0)\n",
    "    elif K_Pressed[pygame.K_UP]:\n",
    "        player.move_ip(0, -pas)\n",
    "    elif K_Pressed[pygame.K_DOWN]:\n",
    "        player.move_ip(0, pas)\n",
    "\n",
    "    # mis à jour de la couleur de la fenêtre principale\n",
    "    window.fill(noir)\n",
    "    # mis à jour de l'affichage du joueur\n",
    "    pygame.draw.rect(window, bleu, player)\n",
    "    # mis à jour de l'affichage du méchant\n",
    "    if player.colliderect(enemy):\n",
    "        enemy.x = random.randint(0, window.get_width() - enemy.width)\n",
    "        enemy.y = random.randint(0, window.get_width() - enemy.height)\n",
    "\n",
    "    pygame.draw.rect(window, rouge, enemy)\n",
    "\n",
    "    # mis à jour de l'affichage\n",
    "    pygame.display.update()\n",
    "\n",
    "# quitte Pygame\n",
    "pygame.quit()\n"
   ]
  },
  {
   "cell_type": "code",
   "execution_count": null,
   "metadata": {},
   "outputs": [],
   "source": []
  }
 ],
 "metadata": {
  "kernelspec": {
   "display_name": "Python 3",
   "language": "python",
   "name": "python3"
  },
  "language_info": {
   "codemirror_mode": {
    "name": "ipython",
    "version": 3
   },
   "file_extension": ".py",
   "mimetype": "text/x-python",
   "name": "python",
   "nbconvert_exporter": "python",
   "pygments_lexer": "ipython3",
   "version": "3.7.0"
  }
 },
 "nbformat": 4,
 "nbformat_minor": 4
}
