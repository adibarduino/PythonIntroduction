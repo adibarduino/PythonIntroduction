{
  "nbformat": 4,
  "nbformat_minor": 0,
  "metadata": {
    "colab": {
      "name": "#2 Python Introduction.ipynb",
      "provenance": [],
      "collapsed_sections": [],
      "toc_visible": true,
      "authorship_tag": "ABX9TyNrSExqRwJjK3e3KYtJQKVr",
      "include_colab_link": true
    },
    "kernelspec": {
      "name": "python3",
      "display_name": "Python 3"
    }
  },
  "cells": [
    {
      "cell_type": "markdown",
      "metadata": {
        "id": "view-in-github",
        "colab_type": "text"
      },
      "source": [
        "<a href=\"https://colab.research.google.com/github/adibarduino/PythonIntroduction/blob/master/%232_Python_Introduction.ipynb\" target=\"_parent\"><img src=\"https://colab.research.google.com/assets/colab-badge.svg\" alt=\"Open In Colab\"/></a>"
      ]
    },
    {
      "cell_type": "markdown",
      "metadata": {
        "id": "Q8CTuPOwF2Bl",
        "colab_type": "text"
      },
      "source": [
        "\n",
        "# INTRODUCTION A LA PROGRAMMATION PYTHON\n",
        "\n",
        "© MatheX  – Licence CC-BY-SA 4.0\n",
        "\n",
        "\n",
        "\n"
      ]
    },
    {
      "cell_type": "markdown",
      "metadata": {
        "id": "Jtm-ST3ZcDE7",
        "colab_type": "text"
      },
      "source": [
        "> **Objectifs:**\n",
        ">*   Introduire Python pour les élèves de 2nd\n",
        ">*   Synthétiser les connaissances en programmation pour les élèves de 2nd et de 1ère spé Maths\n",
        ">*   Mettre en place des fondamentaux sur Python en début de 1ère spé NSI\n"
      ]
    },
    {
      "cell_type": "markdown",
      "metadata": {
        "id": "Z2IJXtb9d8JC",
        "colab_type": "text"
      },
      "source": [
        "> **Méthodologie:**\n",
        "> *   Lire l'activité\n",
        "> *   Réaliser les missions en programmant sur un environnement de développement:\n",
        ">     *  en ligne ( [présent notebook](https://github.com/adibarduino/PythonIntroduction/blob/master/%231_Python_Introduction.ipynb), [repl.it](https://repl.it/), [pythontutor](http://www.pythontutor.com) , ...)\n",
        ">     *  installé sur votre ordinateur ( [idle de Python](https://www.python.org/downloads/), [Thonny](https://thonny.org/), [Pycharm Community](https://www.jetbrains.com/pycharm/download/#section=mac), ...)\n",
        "> *   Visionner la vidéo de l'épisode pour plus d'explications et pour la correction\n"
      ]
    },
    {
      "cell_type": "markdown",
      "metadata": {
        "colab_type": "text",
        "id": "Wiu1XtWL8LZt"
      },
      "source": [
        "# \\#1. Programme et Instructions"
      ]
    },
    {
      "cell_type": "markdown",
      "metadata": {
        "id": "1oiGce4J9gjG",
        "colab_type": "text"
      },
      "source": [
        "> **Objectifs:**\n",
        ">*   Comprendre ce qu'est un algorithme, un programme et une instruction\n",
        ">*   Construire un programme en Python avec des instructions de base\n",
        "\n",
        "\n"
      ]
    },
    {
      "cell_type": "markdown",
      "metadata": {
        "id": "J08H7RaM9F29",
        "colab_type": "text"
      },
      "source": [
        "Un **algorithme** est une suite d'étapes à suivre pour atteindre un objectif. On peut l'écrire en langage naturel ou en pseudo code.\n",
        "\n",
        "Un **programme** informatique est l'implémentation d'un algorithme dans un langage de programmation, il peut être exécuté dans une machine.\n",
        "\n",
        "Un programme est constitué d'une suite finie d'**instructions**:\n",
        "\n",
        "```\n",
        "<instruction 1>  \n",
        "<instruction 2>   \n",
        "    . . .   \n",
        "<instruction n>  `\n",
        "```\n",
        "\n",
        "Ces instructions peuvent être de différentes natures, voici quelques exemples dans le langage Python:"
      ]
    },
    {
      "cell_type": "code",
      "metadata": {
        "colab_type": "code",
        "id": "dZnsgyuG8LZ0",
        "colab": {}
      },
      "source": [
        "###############################\n",
        "# Opération entre des données #\n",
        "###############################\n",
        "\n",
        "2 + 2         # addition entre deux nombres entiers\n",
        "2 * 2         # multiplication entre deux nombres entiers\n",
        "2 ** 3        # puissance: 2 à la puissance 3\n",
        "\n",
        "7 / 2         # division décimale entre deux entiers (le résultat n'est plus forcément un entier)\n",
        "7 // 2        # quotient de la division euclidienne entre deux entiers\n",
        "7 % 2         # reste de la division euclidienne entre deux entiers\n",
        "\n",
        "'Python' + 'Introduction' # concaténation de deux chaînes de caractères (textes)\n",
        "'Python' * 3              # concaténation de plusieurs fois la même chaîne de caractères\n",
        "\n",
        "\n",
        "##################################################\n",
        "# Appel à des services du système d'exploitation #\n",
        "##################################################\n",
        "\n",
        "print(\"Python Introduction\")       # affichage d'un texte sur la sortie standard (l'écran)\n",
        "print(\"2 x 2 = \", 2 * 2 )          # affichage d'un texte puis du résultat d'une expression arithmétique\n",
        "\n",
        "input(\"Donnez votre réponse:\")     # récupération d'un texte depuis l'entrée standard (le clavier)\n",
        "\n",
        "\n",
        "##################################################\n",
        "# Nous en verrons d'autres par la suite:         #\n",
        "# - Affectation                                  #\n",
        "# - Contrôle:                                    #\n",
        "#       - condition                              #\n",
        "#       - boucle bornée                          #\n",
        "#       - boucle non bornée                      #\n",
        "##################################################\n"
      ],
      "execution_count": null,
      "outputs": []
    },
    {
      "cell_type": "markdown",
      "metadata": {
        "colab_type": "text",
        "id": "Q-kvZXgN8LZ4"
      },
      "source": [
        "\n",
        "\n",
        "### Mission 1.1.\n"
      ]
    },
    {
      "cell_type": "markdown",
      "metadata": {
        "id": "ewfsFm8U53gg",
        "colab_type": "text"
      },
      "source": [
        "> Programmer une instruction qui affiche:   \n",
        "> $7 = 3 \\times 2 + 1$  \n",
        "> en calculant les valeurs 3 et 1 avec des expressions arithmétiques"
      ]
    },
    {
      "cell_type": "code",
      "metadata": {
        "id": "VKplAJxT2-hi",
        "colab_type": "code",
        "colab": {}
      },
      "source": [
        "# Ecrire votre programme ici:\n",
        "\n",
        "\n"
      ],
      "execution_count": null,
      "outputs": []
    },
    {
      "cell_type": "markdown",
      "metadata": {
        "colab_type": "text",
        "id": "vDPc2q0J9OAR"
      },
      "source": [
        "### Mission 1.2.\n"
      ]
    },
    {
      "cell_type": "markdown",
      "metadata": {
        "colab_type": "text",
        "id": "ZkwVwMW39OAU"
      },
      "source": [
        "> Programmer une instruction qui affiche un texte entré par l'utilisateur depuis le clavier"
      ]
    },
    {
      "cell_type": "code",
      "metadata": {
        "colab_type": "code",
        "id": "hLyVzHp89OAV",
        "colab": {}
      },
      "source": [
        "# Ecrire votre programme ici:\n",
        "\n",
        "\n"
      ],
      "execution_count": null,
      "outputs": []
    },
    {
      "cell_type": "markdown",
      "metadata": {
        "colab_type": "text",
        "id": "XcrlRPDx-RDN"
      },
      "source": [
        "### Mission 1.3.\n"
      ]
    },
    {
      "cell_type": "markdown",
      "metadata": {
        "colab_type": "text",
        "id": "smK26L4Y-RDQ"
      },
      "source": [
        "> Programmer une instruction qui demande à l'utilisateur son nom, le récupère, puis l'affiche concaténé dix fois."
      ]
    },
    {
      "cell_type": "code",
      "metadata": {
        "colab_type": "code",
        "id": "nqifJ_so-RDR",
        "colab": {}
      },
      "source": [
        "# Ecrire votre programme ici:\n",
        "\n",
        "\n"
      ],
      "execution_count": null,
      "outputs": []
    },
    {
      "cell_type": "markdown",
      "metadata": {
        "colab_type": "text",
        "id": "8SUJLL_ReGFg"
      },
      "source": [
        "## Vidéo\n"
      ]
    },
    {
      "cell_type": "markdown",
      "metadata": {
        "colab_type": "text",
        "id": "fQgtoY4YeGFh"
      },
      "source": [
        "> https://youtu.be/zYhnN3jspUc"
      ]
    },
    {
      "cell_type": "markdown",
      "metadata": {
        "colab_type": "text",
        "id": "QWJSbZdgJj5h"
      },
      "source": [
        "# \\#2. Variable et Type de donnée"
      ]
    },
    {
      "cell_type": "markdown",
      "metadata": {
        "colab_type": "text",
        "id": "umKpnhGAJj5h"
      },
      "source": [
        "> **Objectifs:**\n",
        ">*   Introduire le concept de Variable\n",
        ">*   Programmer des instructions d'affectation\n",
        ">*   Différencier les types de données de base\n",
        "\n",
        "\n"
      ]
    },
    {
      "cell_type": "markdown",
      "metadata": {
        "id": "rmHEcSs0ezpB",
        "colab_type": "text"
      },
      "source": [
        "## Notion de variables"
      ]
    },
    {
      "cell_type": "markdown",
      "metadata": {
        "colab_type": "text",
        "id": "EVi-NCmUJj5i"
      },
      "source": [
        "On a souvent besoin dans un programme de conserver une donnée en mémoire en vue d'un traitement utltérieur, on utilse pour cela une **variable** qui est représentée par un nom:\n",
        "\n",
        "```\n",
        "a = 3\n",
        "```\n",
        "Cette instruction est une instruction d'**affectation**:  on affecte à la variable nommée ***a*** la valeur ***3***:\n",
        "\n"
      ]
    },
    {
      "cell_type": "code",
      "metadata": {
        "id": "vgyIRtR0g3G4",
        "colab_type": "code",
        "colab": {
          "base_uri": "https://localhost:8080/",
          "height": 34
        },
        "outputId": "f38171de-60aa-4881-c963-54087b918a93"
      },
      "source": [
        "a = 3\n",
        "print( a )"
      ],
      "execution_count": null,
      "outputs": [
        {
          "output_type": "stream",
          "text": [
            "3\n"
          ],
          "name": "stdout"
        }
      ]
    },
    {
      "cell_type": "markdown",
      "metadata": {
        "id": "6eDi5uosfqVn",
        "colab_type": "text"
      },
      "source": [
        "Pour faire simple, on peut voir une variable comme une boîte qui a un nom et qui contient une donnée.\n",
        "\n",
        "Pour être plus précis, à une variable est associée une adresse mémoire et cette adresse mémoire contient la donnée."
      ]
    },
    {
      "cell_type": "markdown",
      "metadata": {
        "id": "9fZaNmpcfJZl",
        "colab_type": "text"
      },
      "source": [
        "On peut affecter à une variable directement une donnéec mais aussi le contenu d'une autre variable, le résultat d'une expresion arithmétique, la combinaison d'expressions, ... :"
      ]
    },
    {
      "cell_type": "code",
      "metadata": {
        "id": "DIkNoVuXm2n7",
        "colab_type": "code",
        "colab": {}
      },
      "source": [
        "a = 3\n",
        "a = a + 1    # on met dans a:  (l'ancienne valeur de a) + 1\n",
        "b = a\n",
        "b = b * 2    # on met dans b:  (l'ancienne valeur de b) * 2\n",
        "c = a ** b"
      ],
      "execution_count": null,
      "outputs": []
    },
    {
      "cell_type": "markdown",
      "metadata": {
        "colab_type": "text",
        "id": "ua8fNZ0wJj5l"
      },
      "source": [
        "\n",
        "\n",
        "### Mission 2.1.\n"
      ]
    },
    {
      "cell_type": "markdown",
      "metadata": {
        "colab_type": "text",
        "id": "9B3r5WguJj5m"
      },
      "source": [
        "> Déterminez la valeur des variables du programme ci-dessus:   \n",
        "1.    sans exécuter le programme\n",
        "2.    en ajoutant des `print()` à la fin du programme et en l'exécutant\n"
      ]
    },
    {
      "cell_type": "code",
      "metadata": {
        "colab_type": "code",
        "id": "xs6Vs0NlJj5m",
        "colab": {}
      },
      "source": [
        "# Ecrire votre programme ici:\n",
        "\n",
        "\n",
        "\n",
        "\n",
        "\n"
      ],
      "execution_count": null,
      "outputs": []
    },
    {
      "cell_type": "markdown",
      "metadata": {
        "colab_type": "text",
        "id": "MCYe-mXTJj5p"
      },
      "source": [
        "### Mission 2.2.\n"
      ]
    },
    {
      "cell_type": "markdown",
      "metadata": {
        "colab_type": "text",
        "id": "WC7B1c7LJj5q"
      },
      "source": [
        "> Ecrire un programme qui demande à l'utilisateur son nom, le récupère, puis lui demande son prénom, et enfin affiche un message de bienvenue contenant son nom et son prénom."
      ]
    },
    {
      "cell_type": "code",
      "metadata": {
        "colab_type": "code",
        "id": "ppDk0-MVJj5q",
        "colab": {}
      },
      "source": [
        "# Ecrire votre programme ici:\n",
        "\n",
        "\n",
        "\n",
        "\n",
        "\n"
      ],
      "execution_count": null,
      "outputs": []
    },
    {
      "cell_type": "markdown",
      "metadata": {
        "id": "qeGNxVWfk1zU",
        "colab_type": "text"
      },
      "source": [
        "## Type de données\n",
        "\n",
        "Le **type** d'une donnée correspond à la nature de la donnée, nous en avons déjà vu certains en #1, voici la liste des types de base:\n"
      ]
    },
    {
      "cell_type": "markdown",
      "metadata": {
        "id": "2lYAkT9sAKJo",
        "colab_type": "text"
      },
      "source": [
        "| Type                         \t| Nature                                      \t| Exemple                                \t| Opération                                                                                                                                                       \t|\n",
        "|------------------------------\t|---------------------------------------------\t|----------------------------------------\t|-----------------------------------------------------------------------------------------------------------------------------------------------------------------\t|\n",
        "| **int**<br>( integer)            \t| nombre entier relatif                       \t| 2<br><br>1000000<br><br>-3<br><br>2020 \t| +  ( addition)<br>*  ( multiplication)<br>/  ( division décimale)<br>** ( puissance)<br>// ( quotient division euclidienne)<br>%  ( reste division euclidienne) \t|\n",
        "| **float**<br>( floating point)   \t| nombre décimal relatif                      \t| 2.3<br><br>-1.7245                     \t| +  ( addition)<br>*  ( multiplication)<br>/  ( division décimale)                                                                                               \t|\n",
        "| **str**<br>( string)             \t| chaîne de caractères<br>( caractère, texte) \t| \"Hello\"<br><br>\"2020\"                  \t| +  ( concaténation)<br>*  ( concaténation multiple)                                                                                                             \t|\n",
        "| **bool**<br>( boolean)           \t| booléen                                     \t| True<br><br>False                      \t| and ( et logique)<br>or  ( ou logique)<br>not ( non logique)                                                                                                    \t|"
      ]
    },
    {
      "cell_type": "markdown",
      "metadata": {
        "id": "HSvYAC3XHoOn",
        "colab_type": "text"
      },
      "source": [
        "Pour compléter, on verra plus tard dans la série un dernier type:  les listes."
      ]
    },
    {
      "cell_type": "markdown",
      "metadata": {
        "id": "SUSmj15JJAKJ",
        "colab_type": "text"
      },
      "source": [
        "Le type d'une variable est le type de la donnée affectée à la variable.   \n",
        "Il est très important de  maîtriser la typologie car les opérations et d'autres manipulations ne sont pas les mêmes selon le type de la donnée:"
      ]
    },
    {
      "cell_type": "code",
      "metadata": {
        "id": "Z_O-VXItKXCP",
        "colab_type": "code",
        "colab": {}
      },
      "source": [
        "# Initialisation des variables (première affectation)\n",
        "nombre_a = 3\n",
        "nombre_b = 5\n",
        "string_a = 'texte a'\n",
        "string_b = 'texte b'\n",
        "booleen_a = True\n",
        "booleen_b = False\n",
        "\n",
        "# opérations correctes\n",
        "nombre_a + nombre_b     # addition de deux nombres (résultat: 8)\n",
        "string_a + string_b     # concaténation de deux textes (résultat: 'texte atexte b')\n",
        "booleen_a and booleen_b # et logique entre deux booléens (résultat: False)\n",
        "booleen_a or booleen_b  # ou logique entre deux booléens (résultat: True)\n",
        "not booleen_a           # non logique d'un booléen (résultat: False) \n",
        "\n",
        "# opérations incorrectes: l'exécution entraîne une erreur (ou le résultat est inconsistant)\n",
        "nombre_a + string_a     # + entre un nombre et une chaîne de caractère\n",
        "nombre_a and nombre_b   # et logique entre deux nombres \n",
        "not string_a            # non logique d'un texte "
      ],
      "execution_count": null,
      "outputs": []
    },
    {
      "cell_type": "markdown",
      "metadata": {
        "id": "U9WkffH4NM25",
        "colab_type": "text"
      },
      "source": [
        "On peut connaître le type d'une variable avec la fonction: ```\n",
        "type(nom_variable)\n",
        "```   \n",
        "\n",
        "On peut  changer le type d'une variable ( lorsque c'est possible) avec une opération de convertion (casting):"
      ]
    },
    {
      "cell_type": "code",
      "metadata": {
        "id": "nar_dvgROwPa",
        "colab_type": "code",
        "colab": {}
      },
      "source": [
        "# initialisation des variables\n",
        "a = 3\n",
        "print( type( a ) ) # l'instruction affichera int\n",
        "b = '2.3'\n",
        "print( type( b ) ) # l'instruction affichera str\n",
        "\n",
        "# casting\n",
        "c = str( a )       # la fonction str() convertit le nombre en string\n",
        "print( type( c ) ) # l'instruction affichera str\n",
        "\n",
        "d = int( c )       # la fonction int() convertit le texte en nombre entier (si c'est possible !)\n",
        "print( type( d ) ) # l'instruction affichera int\n",
        "\n",
        "e = float( b )     # la fonction float() convertit le texte en nombre décimal (si c'est possible !)\n",
        "print( type( e ) ) # l'instruction affichera float\n"
      ],
      "execution_count": null,
      "outputs": []
    },
    {
      "cell_type": "markdown",
      "metadata": {
        "colab_type": "text",
        "id": "niLZnPAIJj5u"
      },
      "source": [
        "### Mission 2.3.\n"
      ]
    },
    {
      "cell_type": "markdown",
      "metadata": {
        "colab_type": "text",
        "id": "K-pW39bPJj5v"
      },
      "source": [
        "> On reprend la mission 2.2. mais en plus:\n",
        "*   on demande à l'utilisateur son année de naissance\n",
        "*   on lui précisera son âge ( en fin d'année) dans le message de bienvenue\n",
        ">\n",
        "> NB: la fonction ` input()` renvoie toujours une string ( et pas un nombre)\n"
      ]
    },
    {
      "cell_type": "code",
      "metadata": {
        "colab_type": "code",
        "id": "eOeJMQ4pJj5v",
        "colab": {}
      },
      "source": [
        "# Ecrire votre programme ici:\n",
        "\n",
        "\n",
        "\n",
        "\n",
        "\n"
      ],
      "execution_count": null,
      "outputs": []
    },
    {
      "cell_type": "markdown",
      "metadata": {
        "colab_type": "text",
        "id": "9Gi3mOqKJj5y"
      },
      "source": [
        "## Vidéo\n"
      ]
    },
    {
      "cell_type": "markdown",
      "metadata": {
        "colab_type": "text",
        "id": "FU4qvty4Jj5y"
      },
      "source": [
        "> https://youtu.be/krt_dZwXsJk "
      ]
    }
  ]
}